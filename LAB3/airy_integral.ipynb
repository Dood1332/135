{
 "cells": [
  {
   "cell_type": "markdown",
   "metadata": {},
   "source": [
    "\n",
    "\n",
    "Here we will figure out what fraction of the solid angle inside the Airy disk is actually summed up in an observation.\n",
    "It's less than the total solid angle inside the disk, because the response keeps falling off from the center to the\n",
    "zero crossing.\n",
    "\n"
   ]
  },
  {
   "cell_type": "code",
   "execution_count": 17,
   "metadata": {},
   "outputs": [
    {
     "name": "stdout",
     "output_type": "stream",
     "text": [
      "3831\n"
     ]
    },
    {
     "data": {
      "image/png": "[encoded data removed]",
      "text/plain": [
       "<Figure size 432x288 with 1 Axes>"
      ]
     },
     "metadata": {
      "needs_background": "light"
     },
     "output_type": "display_data"
    },
    {
     "name": "stdout",
     "output_type": "stream",
     "text": [
      "0.22827320604356893\n"
     ]
    }
   ],
   "source": [
    "import numpy as np\n",
    "import scipy.special as sp\n",
    "import matplotlib.pyplot as plt\n",
    "\n",
    "#set up an x axis running from 0.0 to 5.0 (+0.001 to prevent a divide by zero)\n",
    "x=np.arange(5000)/1000.+1./1000.\n",
    "\n",
    "#Define the Airy function -- it's (J1(x)/x)**2 where J1 is a Bessel function\n",
    "airy = (sp.jv(1,x)/x)**2\n",
    "\n",
    "#Renormalize it to be =1 at the peak:\n",
    "airy = airy/np.max(airy)\n",
    "\n",
    "#find where it crosses zero (Airy disk), and limit the range to that point.\n",
    "#Don't ask me why it has to be w[0][0], that's Python weirdness.\n",
    "w=np.where(airy == np.min(airy))\n",
    "print(w[0][0])  ;3831\n",
    "x=x[0:w[0][0]]\n",
    "airy = airy[0:w[0][0]]\n",
    "\n",
    "\n",
    "#show what it looks like:\n",
    "plt.plot(x,airy)\n",
    "plt.plot(x,airy*0.)\n",
    "plt.plot(x,airy*0.+1.0,color=r,)\n",
    "plt.show()\n",
    "\n",
    "#Since this is falling off in 2 dimensions, we get solid angle with integral( airy*2pi*r*dr )\n",
    "#But we want this as a fraction of what it would be if it didn't fall off at all, so we can divide\n",
    "#this by integral ( 2pi*r*dr ) and the constant factors 2pi*dr cancel out, so simply: \n",
    "\n",
    "integralairy = np.sum(  airy*x)\n",
    "integralnorm = np.sum(x)\n",
    "print(integralairy/integralnorm)"
   ]
  },
  {
   "cell_type": "markdown",
   "metadata": {},
   "source": [
    "So this means that we really should be getting only 22.8% of the power we would get if we had 100% response across the whole Airy disk, which has angular radius 1.22(lambda/D) = 1.22(0.21m / 1.8m) = 0.142 radians or 8.16 degrees.  Now since solid angle goes roughly as angular radius squared (for small angles), our integrated response out to the Airy radius is equivalent to the response of a cone that has 100% response out to the edge but has radius:\n",
    "\n",
    "sqrt(0.228) * 8.16 degrees = 3.90 degrees\n",
    "\n",
    "So this is the angular radius I will feed into the HEASARC column density tool at \n",
    "https://heasarc.gsfc.nasa.gov/cgi-bin/Tools/w3nh/w3nh.pl\n"
   ]
  },
  {
   "cell_type": "code",
   "execution_count": null,
   "metadata": {},
   "outputs": [],
   "source": []
  }
 ],
 "metadata": {
  "kernelspec": {
   "display_name": "Python 3 (ipykernel)",
   "language": "python",
   "name": "python3"
  },
  "language_info": {
   "codemirror_mode": {
    "name": "ipython",
    "version": 3
   },
   "file_extension": ".py",
   "mimetype": "text/x-python",
   "name": "python",
   "nbconvert_exporter": "python",
   "pygments_lexer": "ipython3",
   "version": "3.10.6"
  }
 },
 "nbformat": 4,
 "nbformat_minor": 2
}
